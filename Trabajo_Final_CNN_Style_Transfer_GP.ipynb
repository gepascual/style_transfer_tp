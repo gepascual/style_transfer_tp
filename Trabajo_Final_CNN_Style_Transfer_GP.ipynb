{
  "nbformat": 4,
  "nbformat_minor": 0,
  "metadata": {
    "colab": {
      "name": "Trabajo Final CNN - Style Transfer - GP.ipynb",
      "provenance": [],
      "collapsed_sections": [],
      "toc_visible": true,
      "include_colab_link": true
    },
    "kernelspec": {
      "name": "python3",
      "display_name": "Python 3"
    },
    "accelerator": "GPU"
  },
  "cells": [
    {
      "cell_type": "markdown",
      "metadata": {
        "id": "view-in-github",
        "colab_type": "text"
      },
      "source": [
        "<a href=\"https://colab.research.google.com/github/gepascual/style_transfer_tp/blob/master/Trabajo_Final_CNN_Style_Transfer_GP.ipynb\" target=\"_parent\"><img src=\"https://colab.research.google.com/assets/colab-badge.svg\" alt=\"Open In Colab\"/></a>"
      ]
    },
    {
      "cell_type": "markdown",
      "metadata": {
        "id": "qCY6UbkkI9_N",
        "colab_type": "text"
      },
      "source": [
        "# Style Transfer\n",
        "\n",
        "<img src=\"https://i0.wp.com/chelseatroy.com/wp-content/uploads/2018/12/neural_style_transfer.png?resize=768%2C311&ssl=1\">\n",
        "\n",
        "La idea de este trabajo final es reproducir el siguiente paper:\n",
        "\n",
        "https://arxiv.org/pdf/1508.06576.pdf\n",
        "\n",
        "El objetivo es transferir el estilo de una imagen dada a otra imagen distinta. \n",
        "\n",
        "Como hemos visto en clase, las primeras capas de una red convolucional se activan ante la presencia de ciertos patrones vinculados a detalles muy pequeños.\n",
        "\n",
        "A medida que avanzamos en las distintas capas de una red neuronal convolucional, los filtros se van activando a medida que detectan patrones de formas cada vez mas complejos.\n",
        "\n",
        "Lo que propone este paper es asignarle a la activación de las primeras capas de una red neuronal convolucional (por ejemplo VGG19) la definición del estilo y a la activación de las últimas capas de la red neuronal convolucional, la definición del contenido.\n",
        "\n",
        "La idea de este paper es, a partir de dos imágenes (una que aporte el estilo y otra que aporte el contenido) analizar cómo es la activación de las primeras capas para la imagen que aporta el estilo y cómo es la activación de las últimas capas de la red convolucional para la imagen que aporta el contenido. A partir de esto se intentará sintetizar una imagen que active los filtros de las primeras capas que se activaron con la imagen que aporta el estilo y los filtros de las últimas capas que se activaron con la imagen que aporta el contenido.\n",
        "\n",
        "A este procedimiento se lo denomina neural style transfer.\n",
        "\n",
        "# En este trabajo se deberá leer el paper mencionado y en base a ello, entender la implementación que se muestra a continuación y contestar preguntas sobre la misma.\n",
        "\n",
        "# Una metodología posible es hacer una lectura rápida del paper (aunque esto signifique no entender algunos detalles del mismo) y luego ir analizando el código y respondiendo las preguntas. A medida que se planteen las preguntas, volviendo a leer secciones específicas del paper terminará de entender los detalles que pudieran haber quedado pendientes.\n",
        "\n",
        "Lo primero que haremos es cargar dos imágenes, una que aporte el estilo y otra que aporte el contenido. A tal fin utilizaremos imágenes disponibles en la web."
      ]
    },
    {
      "cell_type": "code",
      "metadata": {
        "id": "kyHsa2t0SxZi",
        "colab_type": "code",
        "outputId": "bca17490-7877-42a1-d734-6436483b82b4",
        "colab": {
          "base_uri": "https://localhost:8080/",
          "height": 411
        }
      },
      "source": [
        "# Imagen para estilo\n",
        "!wget https://upload.wikimedia.org/wikipedia/commons/5/52/La_noche_estrellada1.jpg\n",
        "\n",
        "# Imagen para contenido\n",
        "!wget https://upload.wikimedia.org/wikipedia/commons/thumb/f/f4/Neckarfront_T%C3%BCbingen_Mai_2017.jpg/775px-Neckarfront_T%C3%BCbingen_Mai_2017.jpg\n",
        "\n",
        "# Creamos el directorio para los archivos de salida\n",
        "!mkdir /content/output"
      ],
      "execution_count": 1,
      "outputs": [
        {
          "output_type": "stream",
          "text": [
            "--2020-04-30 23:27:42--  https://upload.wikimedia.org/wikipedia/commons/5/52/La_noche_estrellada1.jpg\n",
            "Resolving upload.wikimedia.org (upload.wikimedia.org)... 91.198.174.208, 2620:0:862:ed1a::2:b\n",
            "Connecting to upload.wikimedia.org (upload.wikimedia.org)|91.198.174.208|:443... connected.\n",
            "HTTP request sent, awaiting response... 200 OK\n",
            "Length: 223725 (218K) [image/jpeg]\n",
            "Saving to: ‘La_noche_estrellada1.jpg’\n",
            "\n",
            "\rLa_noche_estrellada   0%[                    ]       0  --.-KB/s               \rLa_noche_estrellada 100%[===================>] 218.48K  --.-KB/s    in 0.02s   \n",
            "\n",
            "2020-04-30 23:27:42 (12.6 MB/s) - ‘La_noche_estrellada1.jpg’ saved [223725/223725]\n",
            "\n",
            "--2020-04-30 23:27:45--  https://upload.wikimedia.org/wikipedia/commons/thumb/f/f4/Neckarfront_T%C3%BCbingen_Mai_2017.jpg/775px-Neckarfront_T%C3%BCbingen_Mai_2017.jpg\n",
            "Resolving upload.wikimedia.org (upload.wikimedia.org)... 91.198.174.208, 2620:0:862:ed1a::2:b\n",
            "Connecting to upload.wikimedia.org (upload.wikimedia.org)|91.198.174.208|:443... connected.\n",
            "HTTP request sent, awaiting response... 200 OK\n",
            "Length: 153015 (149K) [image/jpeg]\n",
            "Saving to: ‘775px-Neckarfront_Tübingen_Mai_2017.jpg’\n",
            "\n",
            "775px-Neckarfront_T 100%[===================>] 149.43K  --.-KB/s    in 0.01s   \n",
            "\n",
            "2020-04-30 23:27:45 (10.3 MB/s) - ‘775px-Neckarfront_Tübingen_Mai_2017.jpg’ saved [153015/153015]\n",
            "\n"
          ],
          "name": "stdout"
        }
      ]
    },
    {
      "cell_type": "code",
      "metadata": {
        "id": "NIxH20o2eFoc",
        "colab_type": "code",
        "outputId": "4f47527a-5fc4-4c50-bd36-1f35711692f7",
        "colab": {
          "base_uri": "https://localhost:8080/",
          "height": 34
        }
      },
      "source": [
        "from keras.preprocessing.image import load_img, save_img, img_to_array\n",
        "import numpy as np\n",
        "from scipy.optimize import fmin_l_bfgs_b\n",
        "import time\n",
        "import argparse\n",
        "\n",
        "from keras.applications import vgg19\n",
        "from keras import backend as K\n",
        "from pathlib import Path"
      ],
      "execution_count": 2,
      "outputs": [
        {
          "output_type": "stream",
          "text": [
            "Using TensorFlow backend.\n"
          ],
          "name": "stderr"
        }
      ]
    },
    {
      "cell_type": "code",
      "metadata": {
        "id": "iLkV1bnFl_tK",
        "colab_type": "code",
        "colab": {}
      },
      "source": [
        "# Definimos las imagenes que vamos a utilizar, y el directorio de salida\n",
        "\n",
        "base_image_path = Path(\"/content/775px-Neckarfront_Tübingen_Mai_2017.jpg\")\n",
        "style_reference_image_path = Path(\"/content/La_noche_estrellada1.jpg\")\n",
        "result_prefix = Path(\"/content/output\")\n",
        "iterations = 100"
      ],
      "execution_count": 0,
      "outputs": []
    },
    {
      "cell_type": "markdown",
      "metadata": {
        "id": "Gz2PeGfpeYzj",
        "colab_type": "text"
      },
      "source": [
        "# 1) En base a lo visto en el paper ¿Qué significan los parámetros definidos en la siguiente celda?\n",
        "\n",
        "Respuesta: Son los pesos de los diferentes componentes de la loss. Permiten controlar el impacto tanto del content como del estilo en la loss total. total_variation_weight es el peso que controla el 'nivel de ruido' en la imagen generada, corresponde al término de regularización de la loss (total variation loss)\n"
      ]
    },
    {
      "cell_type": "code",
      "metadata": {
        "id": "P9Dt3aaEmJWS",
        "colab_type": "code",
        "colab": {}
      },
      "source": [
        "#original\n",
        "total_variation_weight = 0.1\n",
        "style_weight = 10\n",
        "content_weight = 1\n"
      ],
      "execution_count": 0,
      "outputs": []
    },
    {
      "cell_type": "code",
      "metadata": {
        "id": "CQQJOhCVuse6",
        "colab_type": "code",
        "colab": {}
      },
      "source": [
        "# Definimos el tamaño de las imágenes a utilizar\n",
        "width, height = load_img(base_image_path).size\n",
        "img_nrows = 400\n",
        "img_ncols = int(width * img_nrows / height)"
      ],
      "execution_count": 0,
      "outputs": []
    },
    {
      "cell_type": "markdown",
      "metadata": {
        "id": "gg2ct-8agm1E",
        "colab_type": "text"
      },
      "source": [
        "# 2) Explicar qué hace la siguiente celda. En especial las últimas dos líneas de la función antes del return. ¿Por qué?\n",
        "\n",
        "Ayuda: https://keras.io/applications/\n",
        "\n",
        "Respuesta: define una funcion para preprocesar la imagen, abre la imagen, la convierte en un array, luego expande el shape del array y lo convierte en un tensor para ser procesado por VGG19 "
      ]
    },
    {
      "cell_type": "code",
      "metadata": {
        "id": "tAkljg4zuzYd",
        "colab_type": "code",
        "colab": {}
      },
      "source": [
        "def preprocess_image(image_path):\n",
        "    img = load_img(image_path, target_size=(img_nrows, img_ncols))\n",
        "    img = img_to_array(img)\n",
        "    img = np.expand_dims(img, axis=0)\n",
        "    img = vgg19.preprocess_input(img)\n",
        "    return img"
      ],
      "execution_count": 0,
      "outputs": []
    },
    {
      "cell_type": "markdown",
      "metadata": {
        "id": "KTf0YDSagt10",
        "colab_type": "text"
      },
      "source": [
        "# 3) Habiendo comprendido lo que hace la celda anterior, explique de manera muy concisa qué hace la siguiente celda. ¿Qué relación tiene con la celda anterior?\n",
        "\n",
        "Respuesta: Convierte un tensor en una imagen. Es lo inverso a la celda anterior. "
      ]
    },
    {
      "cell_type": "code",
      "metadata": {
        "id": "y5LaTrsAu14z",
        "colab_type": "code",
        "colab": {}
      },
      "source": [
        "def deprocess_image(x):\n",
        "    x = x.reshape((img_nrows, img_ncols, 3))\n",
        "    # Remove zero-center by mean pixel\n",
        "    x[:, :, 0] += 103.939\n",
        "    x[:, :, 1] += 116.779\n",
        "    x[:, :, 2] += 123.68\n",
        "    # 'BGR'->'RGB'\n",
        "    x = x[:, :, ::-1]\n",
        "    x = np.clip(x, 0, 255).astype('uint8')\n",
        "    return x"
      ],
      "execution_count": 0,
      "outputs": []
    },
    {
      "cell_type": "code",
      "metadata": {
        "id": "HYNio09mu4S3",
        "colab_type": "code",
        "colab": {}
      },
      "source": [
        "# get tensor representations of our images\n",
        "# K.variable convierte un numpy array en un tensor, para \n",
        "base_image = K.variable(preprocess_image(base_image_path))\n",
        "style_reference_image = K.variable(preprocess_image(style_reference_image_path))"
      ],
      "execution_count": 0,
      "outputs": []
    },
    {
      "cell_type": "code",
      "metadata": {
        "id": "a1Lbw02Uu--o",
        "colab_type": "code",
        "colab": {}
      },
      "source": [
        "combination_image = K.placeholder((1, img_nrows, img_ncols, 3))"
      ],
      "execution_count": 0,
      "outputs": []
    },
    {
      "cell_type": "markdown",
      "metadata": {
        "id": "RJEi0YI3Uzrm",
        "colab_type": "text"
      },
      "source": [
        "Aclaración:\n",
        "\n",
        "La siguiente celda sirve para procesar las tres imagenes (contenido, estilo y salida) en un solo batch."
      ]
    },
    {
      "cell_type": "code",
      "metadata": {
        "id": "gGO_jGFfvEbF",
        "colab_type": "code",
        "colab": {}
      },
      "source": [
        "# combine the 3 images into a single Keras tensor\n",
        "input_tensor = K.concatenate([base_image,\n",
        "                              style_reference_image,\n",
        "                              combination_image], axis=0)"
      ],
      "execution_count": 0,
      "outputs": []
    },
    {
      "cell_type": "code",
      "metadata": {
        "id": "tdG59VRavHGB",
        "colab_type": "code",
        "outputId": "ae354eb7-9ea2-4f63-e60e-d67abb18d45d",
        "colab": {
          "base_uri": "https://localhost:8080/",
          "height": 34
        }
      },
      "source": [
        "# build the VGG19 network with our 3 images as input\n",
        "# the model will be loaded with pre-trained ImageNet weights\n",
        "model = vgg19.VGG19(input_tensor=input_tensor,\n",
        "                    weights='imagenet', include_top=False)\n",
        "print('Model loaded.')\n",
        "\n",
        "# get the symbolic outputs of each \"key\" layer (we gave them unique names).\n",
        "outputs_dict = dict([(layer.name, layer.output) for layer in model.layers])"
      ],
      "execution_count": 83,
      "outputs": [
        {
          "output_type": "stream",
          "text": [
            "Model loaded.\n"
          ],
          "name": "stdout"
        }
      ]
    },
    {
      "cell_type": "markdown",
      "metadata": {
        "id": "70-vs_jZkKVc",
        "colab_type": "text"
      },
      "source": [
        "# 4) En la siguientes celdas:\n",
        "\n",
        "- ¿Qué es la matriz de Gram?¿Para qué se usa? \n",
        "La matriz de Gram da las correlaciones entre los features. Es el producto punto entre los vectores de activación.  Los features extraídos de la red convolucional contienen información de contenido (estrtuctura y ubicación), esa información puede eliminarse aplicando la matriz de Gram a esos features. Permitiendo separar estilo de contenido.\n",
        "\n",
        "- ¿Por qué se permutan las dimensiones de x?\n",
        "Por definición la matriz de Gram es el producto punto del feature map por su transpuesta en una capa. \n"
      ]
    },
    {
      "cell_type": "code",
      "metadata": {
        "id": "K1FODPATvJ1k",
        "colab_type": "code",
        "colab": {}
      },
      "source": [
        "def gram_matrix(x):\n",
        "    features = K.batch_flatten(K.permute_dimensions(x, (2, 0, 1)))\n",
        "    gram = K.dot(features, K.transpose(features))\n",
        "    return gram"
      ],
      "execution_count": 0,
      "outputs": []
    },
    {
      "cell_type": "markdown",
      "metadata": {
        "id": "vBQkKFY0Rbx-",
        "colab_type": "text"
      },
      "source": [
        "# 5) Losses:\n",
        "\n",
        "Explicar qué mide cada una de las losses en las siguientes tres celdas.\n",
        "\n",
        "Rta:\n",
        "\"style loss\" distancia entre el estilo de la imagen de referencia y el de la imagen generada. \n",
        "\n",
        "- For the style loss, we first define something called a Gram matrix. The terms of this matrix are proportional to the covariances of corresponding sets of features, and thus captures information about which features tend to activate together. By only capturing these aggregate statistics across the image, they are blind to the specific arrangement of objects inside the image. This is what allows them to capture information about style independent of content. **The style loss is then the (scaled, squared) Frobenius norm of the difference between the Gram matrices of the style and combination images.**\n",
        "\n",
        "\"content loss\" distancia entre el contenido de las imagenes de referencia y la generada\n",
        "\n",
        "- **The content loss is the (scaled, squared) Euclidean distance between feature representations of the content and combination images.**\n",
        "\n",
        "\"total variation loss\" regularización, permite mantener la imagen generada 'coherente' - intenta minimizar las diferencias entre la imagen de contenido, la de estilo y la imagen generada\n",
        "\n",
        "- If you were to solve the optimisation problem with only the two loss terms we've introduced so far (style and content), you'll find that the output is quite noisy. We thus add another term, called **the total variation loss (a regularisation term) that encourages spatial smoothness.**\n",
        "\n",
        "http://www.sai-tai.com/blog/transfer-learning-lstm/\n",
        "https://towardsdatascience.com/light-on-math-machine-learning-intuitive-guide-to-neural-style-transfer-ef88e46697ee\n"
      ]
    },
    {
      "cell_type": "code",
      "metadata": {
        "id": "1-Gt0ahWvN6q",
        "colab_type": "code",
        "colab": {}
      },
      "source": [
        "def style_loss(style, combination):\n",
        "    assert K.ndim(style) == 3\n",
        "    assert K.ndim(combination) == 3\n",
        "    S = gram_matrix(style)\n",
        "    C = gram_matrix(combination)\n",
        "    channels = 3\n",
        "    size = img_nrows * img_ncols\n",
        "    return K.sum(K.square(S - C)) / (4.0 * (channels ** 2) * (size ** 2))"
      ],
      "execution_count": 0,
      "outputs": []
    },
    {
      "cell_type": "code",
      "metadata": {
        "id": "XCqnju5RvQCo",
        "colab_type": "code",
        "colab": {}
      },
      "source": [
        "def content_loss(base, combination):\n",
        "    return K.sum(K.square(combination - base))\n"
      ],
      "execution_count": 0,
      "outputs": []
    },
    {
      "cell_type": "code",
      "metadata": {
        "id": "udEp5h31vRnY",
        "colab_type": "code",
        "colab": {}
      },
      "source": [
        "def total_variation_loss(x):\n",
        "    assert K.ndim(x) == 4\n",
        "    a = K.square(\n",
        "        x[:, :img_nrows - 1, :img_ncols - 1, :] - x[:, 1:, :img_ncols - 1, :])\n",
        "    b = K.square(\n",
        "        x[:, :img_nrows - 1, :img_ncols - 1, :] - x[:, :img_nrows - 1, 1:, :])\n",
        "    return K.sum(K.pow(a + b, 1.25))\n"
      ],
      "execution_count": 0,
      "outputs": []
    },
    {
      "cell_type": "code",
      "metadata": {
        "id": "-65vcinbvTZ0",
        "colab_type": "code",
        "colab": {}
      },
      "source": [
        "# Armamos la loss total\n",
        "loss = K.variable(0.0)\n",
        "layer_features = outputs_dict['block5_conv2']\n",
        "base_image_features = layer_features[0, :, :, :]\n",
        "combination_features = layer_features[2, :, :, :]\n",
        "loss = loss + content_weight * content_loss(base_image_features,\n",
        "                                            combination_features)\n",
        "\n",
        "feature_layers = ['block1_conv1', 'block2_conv1',\n",
        "                  'block3_conv1', 'block4_conv1',\n",
        "                  'block5_conv1']\n",
        "for layer_name in feature_layers:\n",
        "    layer_features = outputs_dict[layer_name]\n",
        "    style_reference_features = layer_features[1, :, :, :] \n",
        "    combination_features = layer_features[2, :, :, :]\n",
        "    sl = style_loss(style_reference_features, combination_features)\n",
        "    loss = loss + (style_weight / len(feature_layers)) * sl\n",
        "loss = loss + total_variation_weight * total_variation_loss(combination_image)"
      ],
      "execution_count": 0,
      "outputs": []
    },
    {
      "cell_type": "code",
      "metadata": {
        "id": "pbz4n1OhvV2K",
        "colab_type": "code",
        "colab": {}
      },
      "source": [
        "grads = K.gradients(loss, combination_image)\n",
        "\n",
        "outputs = [loss]\n",
        "if isinstance(grads, (list, tuple)):\n",
        "    outputs += grads\n",
        "else:\n",
        "    outputs.append(grads)\n",
        "\n",
        "f_outputs = K.function([combination_image], outputs)"
      ],
      "execution_count": 0,
      "outputs": []
    },
    {
      "cell_type": "markdown",
      "metadata": {
        "id": "1JbydbOaVcvU",
        "colab_type": "text"
      },
      "source": [
        "# 6) Explique el propósito de las siguientes tres celdas. ¿Qué hace la función fmin_l_bfgs_b? ¿En qué se diferencia con la implementación del paper? ¿Se puede utilizar alguna alternativa?\n",
        "\n",
        "Respuesta: \n",
        "\n",
        "Como indica el comentario en la clase Evaluator:\n",
        "Se define una clase Evaluator que calcula la loss y los gradientes en un paso, y los devuelve en dos funciones separadas loss y grads. Se hace de esta manera porque scipy.optimize requiere funciones separadas para loss y gradientes pero calcularlos por separado es ineficiente.\n",
        "\n",
        "De acuerdo a la documentación, la función fmin_l_bfgs_b minimiza una función (en este caso recive evaluator.loss) usando el algoritmo L-BFGS **'a quasi-Newton algorithm that's significantly quicker to converge than standard gradient descent'**. En el paper de  Leon A. Gatys, se utiliza el algoritmo L-BFGS. \n",
        "\n",
        "Una alternativa sería utilizar Adam (https://blog.slavv.com/picking-an-optimizer-for-style-transfer-86e7b8cba84b)\n",
        "\n",
        "http://ai.stanford.edu/~acoates/papers/LeNgiCoaLahProNg11.pdf\n",
        "\n",
        "\n",
        "\n",
        "\n",
        "\n",
        "\n"
      ]
    },
    {
      "cell_type": "code",
      "metadata": {
        "id": "zVE1_qemvZeN",
        "colab_type": "code",
        "colab": {}
      },
      "source": [
        "def eval_loss_and_grads(x):\n",
        "    x = x.reshape((1, img_nrows, img_ncols, 3))\n",
        "    outs = f_outputs([x])\n",
        "    loss_value = outs[0]\n",
        "    if len(outs[1:]) == 1:\n",
        "        grad_values = outs[1].flatten().astype('float64')\n",
        "    else:\n",
        "        grad_values = np.array(outs[1:]).flatten().astype('float64')\n",
        "    return loss_value, grad_values\n",
        "\n",
        "# this Evaluator class makes it possible\n",
        "# to compute loss and gradients in one pass\n",
        "# while retrieving them via two separate functions,\n",
        "# \"loss\" and \"grads\". This is done because scipy.optimize\n",
        "# requires separate functions for loss and gradients,\n",
        "# but computing them separately would be inefficient."
      ],
      "execution_count": 0,
      "outputs": []
    },
    {
      "cell_type": "code",
      "metadata": {
        "id": "Qbl9roIgvdb1",
        "colab_type": "code",
        "colab": {}
      },
      "source": [
        "class Evaluator(object):\n",
        "\n",
        "    def __init__(self):\n",
        "        self.loss_value = None\n",
        "        self.grads_values = None\n",
        "\n",
        "    def loss(self, x):\n",
        "        assert self.loss_value is None\n",
        "        loss_value, grad_values = eval_loss_and_grads(x)\n",
        "        self.loss_value = loss_value\n",
        "        self.grad_values = grad_values\n",
        "        return self.loss_value\n",
        "\n",
        "    def grads(self, x):\n",
        "        assert self.loss_value is not None\n",
        "        grad_values = np.copy(self.grad_values)\n",
        "        self.loss_value = None\n",
        "        self.grad_values = None\n",
        "        return grad_values"
      ],
      "execution_count": 0,
      "outputs": []
    },
    {
      "cell_type": "markdown",
      "metadata": {
        "id": "Sb0yOEl-WOE6",
        "colab_type": "text"
      },
      "source": [
        "# 7) Ejecute la siguiente celda y observe las imágenes de salida en cada iteración."
      ]
    },
    {
      "cell_type": "code",
      "metadata": {
        "id": "n31YBwCVvhAI",
        "colab_type": "code",
        "outputId": "4ac1d556-4b55-4422-f88d-1307da8bf5d5",
        "colab": {
          "base_uri": "https://localhost:8080/",
          "height": 1000
        }
      },
      "source": [
        "evaluator = Evaluator()\n",
        "\n",
        "# run scipy-based optimization (L-BFGS) over the pixels of the generated image\n",
        "# so as to minimize the neural style loss\n",
        "x = preprocess_image(base_image_path)\n",
        "\n",
        "for i in range(iterations):\n",
        "    print('Start of iteration', i)\n",
        "    start_time = time.time()\n",
        "    x, min_val, info = fmin_l_bfgs_b(evaluator.loss, x.flatten(),\n",
        "                                     fprime=evaluator.grads, maxfun=20)\n",
        "    print('Current loss value:', min_val)\n",
        "    # save current generated image\n",
        "    img = deprocess_image(x.copy())\n",
        "    fname = result_prefix / ('output_at_iteration_%d.png' % i)\n",
        "    save_img(fname, img)\n",
        "    end_time = time.time()\n",
        "    print('Image saved as', fname)\n",
        "    print('Iteration %d completed in %ds' % (i, end_time - start_time))"
      ],
      "execution_count": 92,
      "outputs": [
        {
          "output_type": "stream",
          "text": [
            "Start of iteration 0\n",
            "Current loss value: 44987700000.0\n",
            "Image saved as /content/output_combinacion_2/output_at_iteration_0.png\n",
            "Iteration 0 completed in 2s\n",
            "Start of iteration 1\n",
            "Current loss value: 20410763000.0\n",
            "Image saved as /content/output_combinacion_2/output_at_iteration_1.png\n",
            "Iteration 1 completed in 2s\n",
            "Start of iteration 2\n",
            "Current loss value: 14303830000.0\n",
            "Image saved as /content/output_combinacion_2/output_at_iteration_2.png\n",
            "Iteration 2 completed in 2s\n",
            "Start of iteration 3\n",
            "Current loss value: 11617439000.0\n",
            "Image saved as /content/output_combinacion_2/output_at_iteration_3.png\n",
            "Iteration 3 completed in 2s\n",
            "Start of iteration 4\n",
            "Current loss value: 10091311000.0\n",
            "Image saved as /content/output_combinacion_2/output_at_iteration_4.png\n",
            "Iteration 4 completed in 2s\n",
            "Start of iteration 5\n",
            "Current loss value: 8982728000.0\n",
            "Image saved as /content/output_combinacion_2/output_at_iteration_5.png\n",
            "Iteration 5 completed in 2s\n",
            "Start of iteration 6\n",
            "Current loss value: 8147597000.0\n",
            "Image saved as /content/output_combinacion_2/output_at_iteration_6.png\n",
            "Iteration 6 completed in 2s\n",
            "Start of iteration 7\n",
            "Current loss value: 7630488000.0\n",
            "Image saved as /content/output_combinacion_2/output_at_iteration_7.png\n",
            "Iteration 7 completed in 2s\n",
            "Start of iteration 8\n",
            "Current loss value: 7184723500.0\n",
            "Image saved as /content/output_combinacion_2/output_at_iteration_8.png\n",
            "Iteration 8 completed in 2s\n",
            "Start of iteration 9\n",
            "Current loss value: 6867960000.0\n",
            "Image saved as /content/output_combinacion_2/output_at_iteration_9.png\n",
            "Iteration 9 completed in 2s\n",
            "Start of iteration 10\n",
            "Current loss value: 6616144400.0\n",
            "Image saved as /content/output_combinacion_2/output_at_iteration_10.png\n",
            "Iteration 10 completed in 2s\n",
            "Start of iteration 11\n",
            "Current loss value: 6393890000.0\n",
            "Image saved as /content/output_combinacion_2/output_at_iteration_11.png\n",
            "Iteration 11 completed in 2s\n",
            "Start of iteration 12\n",
            "Current loss value: 6189537000.0\n",
            "Image saved as /content/output_combinacion_2/output_at_iteration_12.png\n",
            "Iteration 12 completed in 2s\n",
            "Start of iteration 13\n",
            "Current loss value: 6016065500.0\n",
            "Image saved as /content/output_combinacion_2/output_at_iteration_13.png\n",
            "Iteration 13 completed in 2s\n",
            "Start of iteration 14\n",
            "Current loss value: 5854717000.0\n",
            "Image saved as /content/output_combinacion_2/output_at_iteration_14.png\n",
            "Iteration 14 completed in 2s\n",
            "Start of iteration 15\n",
            "Current loss value: 5713601000.0\n",
            "Image saved as /content/output_combinacion_2/output_at_iteration_15.png\n",
            "Iteration 15 completed in 2s\n",
            "Start of iteration 16\n",
            "Current loss value: 5601788400.0\n",
            "Image saved as /content/output_combinacion_2/output_at_iteration_16.png\n",
            "Iteration 16 completed in 2s\n",
            "Start of iteration 17\n",
            "Current loss value: 5480354000.0\n",
            "Image saved as /content/output_combinacion_2/output_at_iteration_17.png\n",
            "Iteration 17 completed in 2s\n",
            "Start of iteration 18\n",
            "Current loss value: 5363754000.0\n",
            "Image saved as /content/output_combinacion_2/output_at_iteration_18.png\n",
            "Iteration 18 completed in 2s\n",
            "Start of iteration 19\n",
            "Current loss value: 5259878000.0\n",
            "Image saved as /content/output_combinacion_2/output_at_iteration_19.png\n",
            "Iteration 19 completed in 2s\n",
            "Start of iteration 20\n",
            "Current loss value: 5162595000.0\n",
            "Image saved as /content/output_combinacion_2/output_at_iteration_20.png\n",
            "Iteration 20 completed in 2s\n",
            "Start of iteration 21\n",
            "Current loss value: 5079481300.0\n",
            "Image saved as /content/output_combinacion_2/output_at_iteration_21.png\n",
            "Iteration 21 completed in 2s\n",
            "Start of iteration 22\n",
            "Current loss value: 5007019500.0\n",
            "Image saved as /content/output_combinacion_2/output_at_iteration_22.png\n",
            "Iteration 22 completed in 2s\n",
            "Start of iteration 23\n",
            "Current loss value: 4940126000.0\n",
            "Image saved as /content/output_combinacion_2/output_at_iteration_23.png\n",
            "Iteration 23 completed in 2s\n",
            "Start of iteration 24\n",
            "Current loss value: 4882949000.0\n",
            "Image saved as /content/output_combinacion_2/output_at_iteration_24.png\n",
            "Iteration 24 completed in 2s\n",
            "Start of iteration 25\n",
            "Current loss value: 4821021000.0\n",
            "Image saved as /content/output_combinacion_2/output_at_iteration_25.png\n",
            "Iteration 25 completed in 2s\n",
            "Start of iteration 26\n",
            "Current loss value: 4767864000.0\n",
            "Image saved as /content/output_combinacion_2/output_at_iteration_26.png\n",
            "Iteration 26 completed in 2s\n",
            "Start of iteration 27\n",
            "Current loss value: 4713236500.0\n",
            "Image saved as /content/output_combinacion_2/output_at_iteration_27.png\n",
            "Iteration 27 completed in 2s\n",
            "Start of iteration 28\n",
            "Current loss value: 4664521000.0\n",
            "Image saved as /content/output_combinacion_2/output_at_iteration_28.png\n",
            "Iteration 28 completed in 2s\n",
            "Start of iteration 29\n",
            "Current loss value: 4625697300.0\n",
            "Image saved as /content/output_combinacion_2/output_at_iteration_29.png\n",
            "Iteration 29 completed in 2s\n",
            "Start of iteration 30\n",
            "Current loss value: 4588278000.0\n",
            "Image saved as /content/output_combinacion_2/output_at_iteration_30.png\n",
            "Iteration 30 completed in 2s\n",
            "Start of iteration 31\n",
            "Current loss value: 4547686400.0\n",
            "Image saved as /content/output_combinacion_2/output_at_iteration_31.png\n",
            "Iteration 31 completed in 2s\n",
            "Start of iteration 32\n",
            "Current loss value: 4513247000.0\n",
            "Image saved as /content/output_combinacion_2/output_at_iteration_32.png\n",
            "Iteration 32 completed in 2s\n",
            "Start of iteration 33\n",
            "Current loss value: 4480908300.0\n",
            "Image saved as /content/output_combinacion_2/output_at_iteration_33.png\n",
            "Iteration 33 completed in 2s\n",
            "Start of iteration 34\n",
            "Current loss value: 4447312400.0\n",
            "Image saved as /content/output_combinacion_2/output_at_iteration_34.png\n",
            "Iteration 34 completed in 2s\n",
            "Start of iteration 35\n",
            "Current loss value: 4418866000.0\n",
            "Image saved as /content/output_combinacion_2/output_at_iteration_35.png\n",
            "Iteration 35 completed in 2s\n",
            "Start of iteration 36\n",
            "Current loss value: 4389762000.0\n",
            "Image saved as /content/output_combinacion_2/output_at_iteration_36.png\n",
            "Iteration 36 completed in 2s\n",
            "Start of iteration 37\n",
            "Current loss value: 4361066500.0\n",
            "Image saved as /content/output_combinacion_2/output_at_iteration_37.png\n",
            "Iteration 37 completed in 2s\n",
            "Start of iteration 38\n",
            "Current loss value: 4333286000.0\n",
            "Image saved as /content/output_combinacion_2/output_at_iteration_38.png\n",
            "Iteration 38 completed in 2s\n",
            "Start of iteration 39\n",
            "Current loss value: 4306076700.0\n",
            "Image saved as /content/output_combinacion_2/output_at_iteration_39.png\n",
            "Iteration 39 completed in 2s\n",
            "Start of iteration 40\n",
            "Current loss value: 4281563400.0\n",
            "Image saved as /content/output_combinacion_2/output_at_iteration_40.png\n",
            "Iteration 40 completed in 2s\n",
            "Start of iteration 41\n",
            "Current loss value: 4250916600.0\n",
            "Image saved as /content/output_combinacion_2/output_at_iteration_41.png\n",
            "Iteration 41 completed in 2s\n",
            "Start of iteration 42\n",
            "Current loss value: 4227004200.0\n",
            "Image saved as /content/output_combinacion_2/output_at_iteration_42.png\n",
            "Iteration 42 completed in 2s\n",
            "Start of iteration 43\n",
            "Current loss value: 4204596200.0\n",
            "Image saved as /content/output_combinacion_2/output_at_iteration_43.png\n",
            "Iteration 43 completed in 2s\n",
            "Start of iteration 44\n",
            "Current loss value: 4185104600.0\n",
            "Image saved as /content/output_combinacion_2/output_at_iteration_44.png\n",
            "Iteration 44 completed in 2s\n",
            "Start of iteration 45\n",
            "Current loss value: 4165260800.0\n",
            "Image saved as /content/output_combinacion_2/output_at_iteration_45.png\n",
            "Iteration 45 completed in 2s\n",
            "Start of iteration 46\n",
            "Current loss value: 4146801200.0\n",
            "Image saved as /content/output_combinacion_2/output_at_iteration_46.png\n",
            "Iteration 46 completed in 2s\n",
            "Start of iteration 47\n",
            "Current loss value: 4125540600.0\n",
            "Image saved as /content/output_combinacion_2/output_at_iteration_47.png\n",
            "Iteration 47 completed in 2s\n",
            "Start of iteration 48\n",
            "Current loss value: 4105897700.0\n",
            "Image saved as /content/output_combinacion_2/output_at_iteration_48.png\n",
            "Iteration 48 completed in 2s\n",
            "Start of iteration 49\n",
            "Current loss value: 4087185700.0\n",
            "Image saved as /content/output_combinacion_2/output_at_iteration_49.png\n",
            "Iteration 49 completed in 2s\n",
            "Start of iteration 50\n",
            "Current loss value: 4068011800.0\n",
            "Image saved as /content/output_combinacion_2/output_at_iteration_50.png\n",
            "Iteration 50 completed in 2s\n",
            "Start of iteration 51\n",
            "Current loss value: 4050408400.0\n",
            "Image saved as /content/output_combinacion_2/output_at_iteration_51.png\n",
            "Iteration 51 completed in 2s\n",
            "Start of iteration 52\n",
            "Current loss value: 4033936000.0\n",
            "Image saved as /content/output_combinacion_2/output_at_iteration_52.png\n",
            "Iteration 52 completed in 2s\n",
            "Start of iteration 53\n",
            "Current loss value: 4013468400.0\n",
            "Image saved as /content/output_combinacion_2/output_at_iteration_53.png\n",
            "Iteration 53 completed in 2s\n",
            "Start of iteration 54\n",
            "Current loss value: 3993073700.0\n",
            "Image saved as /content/output_combinacion_2/output_at_iteration_54.png\n",
            "Iteration 54 completed in 2s\n",
            "Start of iteration 55\n",
            "Current loss value: 3977073200.0\n",
            "Image saved as /content/output_combinacion_2/output_at_iteration_55.png\n",
            "Iteration 55 completed in 2s\n",
            "Start of iteration 56\n",
            "Current loss value: 3957748700.0\n",
            "Image saved as /content/output_combinacion_2/output_at_iteration_56.png\n",
            "Iteration 56 completed in 2s\n",
            "Start of iteration 57\n",
            "Current loss value: 3945313300.0\n",
            "Image saved as /content/output_combinacion_2/output_at_iteration_57.png\n",
            "Iteration 57 completed in 2s\n",
            "Start of iteration 58\n",
            "Current loss value: 3930059500.0\n",
            "Image saved as /content/output_combinacion_2/output_at_iteration_58.png\n",
            "Iteration 58 completed in 2s\n",
            "Start of iteration 59\n",
            "Current loss value: 3917536300.0\n",
            "Image saved as /content/output_combinacion_2/output_at_iteration_59.png\n",
            "Iteration 59 completed in 2s\n",
            "Start of iteration 60\n",
            "Current loss value: 3905019100.0\n",
            "Image saved as /content/output_combinacion_2/output_at_iteration_60.png\n",
            "Iteration 60 completed in 2s\n",
            "Start of iteration 61\n",
            "Current loss value: 3890899700.0\n",
            "Image saved as /content/output_combinacion_2/output_at_iteration_61.png\n",
            "Iteration 61 completed in 2s\n",
            "Start of iteration 62\n",
            "Current loss value: 3876389600.0\n",
            "Image saved as /content/output_combinacion_2/output_at_iteration_62.png\n",
            "Iteration 62 completed in 2s\n",
            "Start of iteration 63\n",
            "Current loss value: 3864077800.0\n",
            "Image saved as /content/output_combinacion_2/output_at_iteration_63.png\n",
            "Iteration 63 completed in 2s\n",
            "Start of iteration 64\n",
            "Current loss value: 3853174300.0\n",
            "Image saved as /content/output_combinacion_2/output_at_iteration_64.png\n",
            "Iteration 64 completed in 2s\n",
            "Start of iteration 65\n",
            "Current loss value: 3840937700.0\n",
            "Image saved as /content/output_combinacion_2/output_at_iteration_65.png\n",
            "Iteration 65 completed in 2s\n",
            "Start of iteration 66\n",
            "Current loss value: 3827479600.0\n",
            "Image saved as /content/output_combinacion_2/output_at_iteration_66.png\n",
            "Iteration 66 completed in 2s\n",
            "Start of iteration 67\n",
            "Current loss value: 3816250000.0\n",
            "Image saved as /content/output_combinacion_2/output_at_iteration_67.png\n",
            "Iteration 67 completed in 2s\n",
            "Start of iteration 68\n",
            "Current loss value: 3803285200.0\n",
            "Image saved as /content/output_combinacion_2/output_at_iteration_68.png\n",
            "Iteration 68 completed in 2s\n",
            "Start of iteration 69\n",
            "Current loss value: 3793129700.0\n",
            "Image saved as /content/output_combinacion_2/output_at_iteration_69.png\n",
            "Iteration 69 completed in 2s\n",
            "Start of iteration 70\n",
            "Current loss value: 3781374000.0\n",
            "Image saved as /content/output_combinacion_2/output_at_iteration_70.png\n",
            "Iteration 70 completed in 2s\n",
            "Start of iteration 71\n",
            "Current loss value: 3768354300.0\n",
            "Image saved as /content/output_combinacion_2/output_at_iteration_71.png\n",
            "Iteration 71 completed in 2s\n",
            "Start of iteration 72\n",
            "Current loss value: 3753900000.0\n",
            "Image saved as /content/output_combinacion_2/output_at_iteration_72.png\n",
            "Iteration 72 completed in 2s\n",
            "Start of iteration 73\n",
            "Current loss value: 3742566100.0\n",
            "Image saved as /content/output_combinacion_2/output_at_iteration_73.png\n",
            "Iteration 73 completed in 2s\n",
            "Start of iteration 74\n",
            "Current loss value: 3730860300.0\n",
            "Image saved as /content/output_combinacion_2/output_at_iteration_74.png\n",
            "Iteration 74 completed in 2s\n",
            "Start of iteration 75\n",
            "Current loss value: 3721051000.0\n",
            "Image saved as /content/output_combinacion_2/output_at_iteration_75.png\n",
            "Iteration 75 completed in 2s\n",
            "Start of iteration 76\n",
            "Current loss value: 3710740500.0\n",
            "Image saved as /content/output_combinacion_2/output_at_iteration_76.png\n",
            "Iteration 76 completed in 2s\n",
            "Start of iteration 77\n",
            "Current loss value: 3700576500.0\n",
            "Image saved as /content/output_combinacion_2/output_at_iteration_77.png\n",
            "Iteration 77 completed in 2s\n",
            "Start of iteration 78\n",
            "Current loss value: 3689574000.0\n",
            "Image saved as /content/output_combinacion_2/output_at_iteration_78.png\n",
            "Iteration 78 completed in 2s\n",
            "Start of iteration 79\n",
            "Current loss value: 3677293300.0\n",
            "Image saved as /content/output_combinacion_2/output_at_iteration_79.png\n",
            "Iteration 79 completed in 2s\n",
            "Start of iteration 80\n",
            "Current loss value: 3665233000.0\n",
            "Image saved as /content/output_combinacion_2/output_at_iteration_80.png\n",
            "Iteration 80 completed in 2s\n",
            "Start of iteration 81\n",
            "Current loss value: 3654453500.0\n",
            "Image saved as /content/output_combinacion_2/output_at_iteration_81.png\n",
            "Iteration 81 completed in 2s\n",
            "Start of iteration 82\n",
            "Current loss value: 3644656400.0\n",
            "Image saved as /content/output_combinacion_2/output_at_iteration_82.png\n",
            "Iteration 82 completed in 2s\n",
            "Start of iteration 83\n",
            "Current loss value: 3636031200.0\n",
            "Image saved as /content/output_combinacion_2/output_at_iteration_83.png\n",
            "Iteration 83 completed in 2s\n",
            "Start of iteration 84\n",
            "Current loss value: 3625302500.0\n",
            "Image saved as /content/output_combinacion_2/output_at_iteration_84.png\n",
            "Iteration 84 completed in 2s\n",
            "Start of iteration 85\n",
            "Current loss value: 3617400300.0\n",
            "Image saved as /content/output_combinacion_2/output_at_iteration_85.png\n",
            "Iteration 85 completed in 2s\n",
            "Start of iteration 86\n",
            "Current loss value: 3609791700.0\n",
            "Image saved as /content/output_combinacion_2/output_at_iteration_86.png\n",
            "Iteration 86 completed in 2s\n",
            "Start of iteration 87\n",
            "Current loss value: 3602276900.0\n",
            "Image saved as /content/output_combinacion_2/output_at_iteration_87.png\n",
            "Iteration 87 completed in 2s\n",
            "Start of iteration 88\n",
            "Current loss value: 3594951000.0\n",
            "Image saved as /content/output_combinacion_2/output_at_iteration_88.png\n",
            "Iteration 88 completed in 2s\n",
            "Start of iteration 89\n",
            "Current loss value: 3587630800.0\n",
            "Image saved as /content/output_combinacion_2/output_at_iteration_89.png\n",
            "Iteration 89 completed in 2s\n",
            "Start of iteration 90\n",
            "Current loss value: 3580299800.0\n",
            "Image saved as /content/output_combinacion_2/output_at_iteration_90.png\n",
            "Iteration 90 completed in 2s\n",
            "Start of iteration 91\n",
            "Current loss value: 3572930600.0\n",
            "Image saved as /content/output_combinacion_2/output_at_iteration_91.png\n",
            "Iteration 91 completed in 2s\n",
            "Start of iteration 92\n",
            "Current loss value: 3565377000.0\n",
            "Image saved as /content/output_combinacion_2/output_at_iteration_92.png\n",
            "Iteration 92 completed in 2s\n",
            "Start of iteration 93\n",
            "Current loss value: 3558415000.0\n",
            "Image saved as /content/output_combinacion_2/output_at_iteration_93.png\n",
            "Iteration 93 completed in 2s\n",
            "Start of iteration 94\n",
            "Current loss value: 3551032600.0\n",
            "Image saved as /content/output_combinacion_2/output_at_iteration_94.png\n",
            "Iteration 94 completed in 2s\n",
            "Start of iteration 95\n",
            "Current loss value: 3544020000.0\n",
            "Image saved as /content/output_combinacion_2/output_at_iteration_95.png\n",
            "Iteration 95 completed in 2s\n",
            "Start of iteration 96\n",
            "Current loss value: 3536113200.0\n",
            "Image saved as /content/output_combinacion_2/output_at_iteration_96.png\n",
            "Iteration 96 completed in 2s\n",
            "Start of iteration 97\n",
            "Current loss value: 3530122000.0\n",
            "Image saved as /content/output_combinacion_2/output_at_iteration_97.png\n",
            "Iteration 97 completed in 2s\n",
            "Start of iteration 98\n",
            "Current loss value: 3522557400.0\n",
            "Image saved as /content/output_combinacion_2/output_at_iteration_98.png\n",
            "Iteration 98 completed in 2s\n",
            "Start of iteration 99\n",
            "Current loss value: 3515408400.0\n",
            "Image saved as /content/output_combinacion_2/output_at_iteration_99.png\n",
            "Iteration 99 completed in 2s\n"
          ],
          "name": "stdout"
        }
      ]
    },
    {
      "cell_type": "markdown",
      "metadata": {
        "id": "SkiJtofbWWy1",
        "colab_type": "text"
      },
      "source": [
        "# 8) Generar imágenes para distintas combinaciones de pesos de las losses. Explicar las diferencias. (Adjuntar las imágenes generadas como archivos separados.)\n",
        "\n",
        "Respuesta: La loss contiene dos términos, uno correspondiente al estilo y el otro al contenido. Lo que permite regular el énfasis en reconstruir el estilo o bien el contenido de la imagen. Las imágenes generadas originalmente hacían mayor énfasis en el estilo, nosotros generamos la inversa, haciendo mayor énfasis en el contenido. Se adjuntan las imágenes. \n"
      ]
    },
    {
      "cell_type": "markdown",
      "metadata": {
        "id": "wxEbii6tFD5r",
        "colab_type": "text"
      },
      "source": [
        "En este caso se genera la imagen con peso 1 para estilo y 10 para contenido. Las imágenes de salida se generan en el directorio output2. El resultado es una imagen con mas contenido y sin tanto estilo, que a simple vista se nota en no verse las formas redondeadas que tenía la foto artística."
      ]
    },
    {
      "cell_type": "code",
      "metadata": {
        "id": "y06yFj9eMChb",
        "colab_type": "code",
        "colab": {}
      },
      "source": [
        "total_variation_weight=0.1\n",
        "style_weight=1\n",
        "content_weight=10\n",
        "\n",
        "!mkdir /content/output2\n",
        "result_prefix = Path(\"/content/output2\")"
      ],
      "execution_count": 0,
      "outputs": []
    },
    {
      "cell_type": "markdown",
      "metadata": {
        "id": "JdEM0twfefxD",
        "colab_type": "text"
      },
      "source": [
        "En este otro caso se genera nuevamente con peso 1 para estilo y 10 para contenido, pero tambien se modificó la \"variación total\" por 5. Las imágenes de salida se generan en el directorio output3. Al modificar el peso de la \"variación total\" se va perdiendo la coherencia entre los pixels de las imagenes dando una imagen como fuera de foco."
      ]
    },
    {
      "cell_type": "code",
      "metadata": {
        "id": "icMz-PYUdC8I",
        "colab_type": "code",
        "colab": {}
      },
      "source": [
        "total_variation_weight=0.1\n",
        "style_weight=1\n",
        "content_weight=10\n",
        "\n",
        "!mkdir /content/output3\n",
        "result_prefix = Path(\"/content/output3\")"
      ],
      "execution_count": 0,
      "outputs": []
    },
    {
      "cell_type": "markdown",
      "metadata": {
        "id": "uB1qQ50tb9SO",
        "colab_type": "text"
      },
      "source": [
        "#9) Cambiar las imágenes de contenido y estilo por unas elegidas por usted. Adjuntar el resultado.\n",
        "Respuesta: Se adjuntan dos combinaciones diferentes, debajo la modificación del código para cargar las imágenes y cambiar el directorio de salida"
      ]
    },
    {
      "cell_type": "code",
      "metadata": {
        "id": "H98JN1Cebcv4",
        "colab_type": "code",
        "colab": {}
      },
      "source": [
        "# 2 en estilo y 8 en contenido.\n",
        "!mkdir /content/output_combinacion_1\n",
        "total_variation_weight=0.1\n",
        "style_weight=2\n",
        "content_weight=8\n",
        "\n",
        "base_image_path = Path(\"/content/foto_combinacion_1.jpg\")\n",
        "style_reference_image_path = Path(\"/content/art_combinacion_1.jpg\")\n",
        "result_prefix = Path(\"/content/output_combinacion_1\")\n",
        "iterations = 100"
      ],
      "execution_count": 0,
      "outputs": []
    },
    {
      "cell_type": "code",
      "metadata": {
        "id": "TgzHOR0jMGcy",
        "colab_type": "code",
        "colab": {}
      },
      "source": [
        "# 10 tanto en estilo como contenido\n",
        "!mkdir /content/output_combinacion_2\n",
        "total_variation_weight=0.1\n",
        "style_weight=10\n",
        "content_weight=10\n",
        "\n",
        "base_image_path = Path(\"/content/foto_combinacion_2.jpg\")\n",
        "style_reference_image_path = Path(\"/content/art_combinacion_2.jpg\")\n",
        "result_prefix = Path(\"/content/output_combinacion_2\")\n",
        "iterations = 100"
      ],
      "execution_count": 0,
      "outputs": []
    }
  ]
}